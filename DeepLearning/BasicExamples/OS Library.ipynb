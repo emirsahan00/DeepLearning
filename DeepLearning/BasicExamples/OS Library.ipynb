{
 "cells": [
  {
   "cell_type": "markdown",
   "metadata": {},
   "source": [
    "OS Library"
   ]
  },
  {
   "cell_type": "code",
   "execution_count": null,
   "metadata": {},
   "outputs": [],
   "source": [
    "import os\n",
    "\n",
    "# print(os.name) #windows = nt\n",
    "# print(os.getcwd()) #şu an hangi dosyanın içindeysek o yolu verir\n",
    "\n",
    "# folderName = 'new_folder'\n",
    "# os.mkdir(folderName)  #mevcut klasörün içinde dosya oluşturduk\n",
    "\n",
    "# new_folder_name = 'new_folder_2' #çalıştırırken üstekileri yorum satırına al yoksa hata alırsın !\n",
    "# os.rename(folderName,new_folder_name) #oluşturdugumuz dosyanın ismini değiştirdik\n",
    "\n",
    "# os.chdir(os.getcwd()+\"//\"+new_folder_name) #açtğımız dosyanın içine girdik\n",
    "\n",
    "os.chdir(os.getcwd())\n",
    "print(os.getcwd())\n",
    "\n",
    "files = os.listdir()\n",
    "\n",
    "for f in files:\n",
    "    if f.endswith(\".py\"): #dosya .py uzantılı ise yazdır\n",
    "        print(f)\n",
    "\n",
    "os.rmdir(new_folder_name) #dosyayı silme"
   ]
  }
 ],
 "metadata": {
  "kernelspec": {
   "display_name": "Python 3",
   "language": "python",
   "name": "python3"
  },
  "language_info": {
   "codemirror_mode": {
    "name": "ipython",
    "version": 3
   },
   "file_extension": ".py",
   "mimetype": "text/x-python",
   "name": "python",
   "nbconvert_exporter": "python",
   "pygments_lexer": "ipython3",
   "version": "3.11.0"
  },
  "orig_nbformat": 4
 },
 "nbformat": 4,
 "nbformat_minor": 2
}
