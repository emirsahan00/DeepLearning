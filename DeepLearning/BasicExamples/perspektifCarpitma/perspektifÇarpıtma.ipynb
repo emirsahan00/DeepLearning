{
 "cells": [
  {
   "cell_type": "code",
   "execution_count": 15,
   "metadata": {},
   "outputs": [],
   "source": [
    "import cv2\n",
    "import numpy as np \n",
    "img = cv2.imread('D:/examples_forDeepLearning/perspektifCarpitma/src/card.png')\n",
    "\n",
    "width = 400\n",
    "height = 500\n",
    "\n",
    "pts1 = np.float32([[212,1],[1,472],[540,150],[338,617]])    \n",
    "pts2 = np.float32([[0,0],[0,height],[width,0],[width,height]])\n",
    "\n",
    "matrix = cv2.getPerspectiveTransform(pts1,pts2)\n",
    "\n",
    "imgOutput = cv2.warpPerspective(img,matrix,(width,height))\n",
    "\n",
    "cv2.imshow('ori',img)\n",
    "cv2.imshow('result',imgOutput)\n",
    "cv2.waitKey(0)\n",
    "cv2.destroyAllWindows()"
   ]
  }
 ],
 "metadata": {
  "kernelspec": {
   "display_name": "Python 3",
   "language": "python",
   "name": "python3"
  },
  "language_info": {
   "codemirror_mode": {
    "name": "ipython",
    "version": 3
   },
   "file_extension": ".py",
   "mimetype": "text/x-python",
   "name": "python",
   "nbconvert_exporter": "python",
   "pygments_lexer": "ipython3",
   "version": "3.11.0"
  },
  "orig_nbformat": 4
 },
 "nbformat": 4,
 "nbformat_minor": 2
}
