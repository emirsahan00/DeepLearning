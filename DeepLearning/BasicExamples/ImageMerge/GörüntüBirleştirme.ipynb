{
 "cells": [
  {
   "cell_type": "code",
   "execution_count": null,
   "metadata": {},
   "outputs": [],
   "source": [
    "import cv2\n",
    "import numpy as np\n",
    "\n",
    "img = cv2.imread('D:/examples_forDeepLearning/ImageMerge/src/messi.jpg')\n",
    "\n",
    "cv2.imshow('original',img)\n",
    "\n",
    "hor = np.hstack((img,img))  #resimleri bu kısımda birleştirdik (yatay)\n",
    "cv2.imshow(\"Yatay\",hor)\n",
    "\n",
    "ver = np.vstack((img,img))\n",
    "cv2.imshow('Dikey',ver)\n",
    "\n"
   ]
  }
 ],
 "metadata": {
  "kernelspec": {
   "display_name": "Python 3",
   "language": "python",
   "name": "python3"
  },
  "language_info": {
   "codemirror_mode": {
    "name": "ipython",
    "version": 3
   },
   "file_extension": ".py",
   "mimetype": "text/x-python",
   "name": "python",
   "nbconvert_exporter": "python",
   "pygments_lexer": "ipython3",
   "version": "3.11.0"
  },
  "orig_nbformat": 4
 },
 "nbformat": 4,
 "nbformat_minor": 2
}
