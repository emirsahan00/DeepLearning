{
 "cells": [
  {
   "cell_type": "code",
   "execution_count": null,
   "metadata": {},
   "outputs": [],
   "source": [
    "import cv2\n",
    "import matplotlib.pyplot as plt\n",
    "\n",
    "img = cv2.imread('D:/examples_forDeepLearning/HistogramEsitleme/src/mountain.jpg',0)\n",
    "\n",
    "img_hist = cv2.calcHist([img],channels=[0],mask=None,histSize = [256],ranges=[0,256])\n",
    "\n",
    "eq_hist = cv2.equalizeHist(img)\n",
    "\n",
    "eq_histogram = cv2.calcHist([eq_hist],channels=[0],mask=None,histSize = [256],ranges=[0,256])\n",
    "\n",
    "plt.figure()\n",
    "plt.imshow(img,cmap=\"gray\")\n",
    "\n",
    "plt.figure()\n",
    "plt.plot(img_hist),\n",
    "\n",
    "plt.figure()\n",
    "plt.imshow(eq_hist,cmap=\"gray\")\n",
    "\n",
    "plt.figure()\n",
    "plt.plot(eq_histogram)\n",
    "\n",
    "\n"
   ]
  },
  {
   "cell_type": "code",
   "execution_count": null,
   "metadata": {},
   "outputs": [],
   "source": []
  }
 ],
 "metadata": {
  "kernelspec": {
   "display_name": "Python 3",
   "language": "python",
   "name": "python3"
  },
  "language_info": {
   "codemirror_mode": {
    "name": "ipython",
    "version": 3
   },
   "file_extension": ".py",
   "mimetype": "text/x-python",
   "name": "python",
   "nbconvert_exporter": "python",
   "pygments_lexer": "ipython3",
   "version": "3.11.0"
  },
  "orig_nbformat": 4
 },
 "nbformat": 4,
 "nbformat_minor": 2
}
