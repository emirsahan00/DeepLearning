{
 "cells": [
  {
   "cell_type": "code",
   "execution_count": 2,
   "metadata": {},
   "outputs": [],
   "source": [
    "import cv2 #kütüphanemizi tanımladık \n",
    "cap = cv2.VideoCapture(0) #görüntüyü webcamden aldık\n",
    "\n",
    "width = int(cap.get(cv2.CAP_PROP_FRAME_WIDTH))  #görüntümüzün yükseklik ve genişliklerini aldık\n",
    "height = int(cap.get(cv2.CAP_PROP_FRAME_HEIGHT)) \n",
    "\n",
    "writer = cv2.VideoWriter(\"videoDeneme.mp4\",cv2.VideoWriter_fourcc(*\"XDIV\"),20,(width,height)) #gerekli parametreleri vererek burayı depo misali kullandık\n",
    "\n",
    "while True: #sonsuz bir döngü oluşturduk\n",
    "\n",
    "    ret,frame = cap.read()  #frameleri okuduk\n",
    "    cv2.imshow(\"frame\",frame) #imshowladık\n",
    "\n",
    "    writer.write(frame)  #ve her frame ' i yolunu verdiğimiz yola kaydettik\n",
    "    if cv2.waitKey(1) == ord('q'): #q ya basılınca döngüyü kırdık\n",
    "        break\n",
    "\n",
    "cap.release()  \n",
    "writer.release()\n",
    "cv2.destroyAllWindows()"
   ]
  }
 ],
 "metadata": {
  "kernelspec": {
   "display_name": "Python 3",
   "language": "python",
   "name": "python3"
  },
  "language_info": {
   "codemirror_mode": {
    "name": "ipython",
    "version": 3
   },
   "file_extension": ".py",
   "mimetype": "text/x-python",
   "name": "python",
   "nbconvert_exporter": "python",
   "pygments_lexer": "ipython3",
   "version": "3.11.0"
  },
  "orig_nbformat": 4
 },
 "nbformat": 4,
 "nbformat_minor": 2
}
