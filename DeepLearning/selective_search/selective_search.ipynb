{
 "cells": [
  {
   "cell_type": "code",
   "execution_count": 9,
   "metadata": {},
   "outputs": [
    {
     "name": "stdout",
     "output_type": "stream",
     "text": [
      "start\n",
      "Total rectangle :  6186\n"
     ]
    }
   ],
   "source": [
    "import cv2  #gerekli olan kütüphaneleri (paketleri) içe aktarıyoruz\n",
    "import random\n",
    "\n",
    "image = cv2.imread('D:/examples_forDeepLearning/selective_search/src/pyramid.jpg')  #resmimizi diskten alıyoruz\n",
    "image = cv2.resize(image,(600,600))  #orijinal resmimizi 600'e 600'e olmak üzere yeniden boyutlandırıyoruz\n",
    "\n",
    "#ilklendir selective search\n",
    "ss = cv2.ximgproc.segmentation.createSelectiveSearchSegmentation()\n",
    "ss.setBaseImage(image)  #algoritmanın işlem yapacağı resmi aktarıyoruz\n",
    "ss.switchToSelectiveSearchQuality()  #algoritmamızı içe aktardık \n",
    "\n",
    "print('start')\n",
    "rects = ss.process()  #burda algoritma ile nesne tespiti ==> x ,y ,w ,h değerlerini döndürür\n",
    "\n",
    "output = image.copy()  #orijinal resmimizin kopyasını oluşturuyoruz\n",
    "print(\"Total rectangle : \",len(rects))  #toplam kaç kutucuk bulmuş yazdırıyoruz\n",
    "\n",
    "for (x,y,w,h) in rects[:50]:  #ilk 50 kutucuk içinde geziniyoruz\n",
    "    color = [random.randint(0,255) for j in range(0,3)]  #random renkler üretiyoruz\n",
    "    cv2.rectangle(output,(x,y),(x+w,y+h),color,2) #ve kutucukları kopya resmimizin üstüne çizdiriyoruz\n",
    "\n",
    "cv2.imshow('pyramid',output)  #kopya resmimizi imshwoluyoruz\n",
    "cv2.waitKey(0)  \n",
    "cv2.destroyAllWindows() #tüm pencereleri kapat\n"
   ]
  }
 ],
 "metadata": {
  "kernelspec": {
   "display_name": "Python 3",
   "language": "python",
   "name": "python3"
  },
  "language_info": {
   "codemirror_mode": {
    "name": "ipython",
    "version": 3
   },
   "file_extension": ".py",
   "mimetype": "text/x-python",
   "name": "python",
   "nbconvert_exporter": "python",
   "pygments_lexer": "ipython3",
   "version": "3.11.0"
  },
  "orig_nbformat": 4
 },
 "nbformat": 4,
 "nbformat_minor": 2
}
