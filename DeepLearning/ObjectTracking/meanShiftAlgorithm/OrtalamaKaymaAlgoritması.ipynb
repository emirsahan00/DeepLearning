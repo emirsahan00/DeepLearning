{
 "cells": [
  {
   "cell_type": "code",
   "execution_count": null,
   "metadata": {},
   "outputs": [],
   "source": [
    "import cv2  #gerekli olan kütüphaneleri (paketleri) tanımlarız\n",
    "import numpy as np\n",
    "\n",
    "cap  = cv2.VideoCapture(0)  #görüntüyü webcamden alırız\n",
    "\n",
    "ret,frame = cap.read()  #bir tane frame okuruz\n",
    "\n",
    "if ret == False: #eğer ki okuyamazsak uyarı mesajı göndeririz\n",
    "    print('Uyarı')\n",
    "\n",
    "face_cascade = cv2.CascadeClassifier('D:/examples_forDeepLearning/ObjectTracking/meanShiftAlgorithm/haarcascade_frontalface_default.xml')  #cascade\n",
    "\n",
    "face_rects = face_cascade.detectMultiScale(frame) \n",
    "\n",
    "(face_x,face_y,w,h) = tuple(face_rects[0])\n",
    "\n",
    "\n",
    "track_window = (face_x,face_y,w,h)  #meanshift algoritması girdisi\n",
    "\n",
    "roi = frame[face_y:face_y + h,face_x:face_x + w] #tespit ettiğimiz kutucuğun içerisi yani roi = face\n",
    "\n",
    "hsv_roi = cv2.cvtColor(roi,cv2.COLOR_BGR2HSV)  #bgr formatından hsv formatına çeviriyoruz\n",
    "\n",
    "roi_hist = cv2.calcHist([hsv_roi],[0],None,[180],[0,180]) #takip için histogram gerekli \n",
    "cv2.normalize(roi_hist,roi_hist,0,255,cv2.NORM_MINMAX)  #0 ile 255 arasına sıkıştırıyoruz\n",
    "#takip için gerekli olan durdurma kriterleri\n",
    "#count = hesaplanacak maksimum öge sayısı \n",
    "#epsilon = değişiklik\n",
    "\n",
    "term_crit = (cv2.TERM_CRITERIA_EPS or cv2.TERM_CRITERIA_COUNT,5 ,1)  # 5 yineleme veya 1 tane epsilon\n",
    "\n",
    "while True:\n",
    "    ret,frame = cap.read()\n",
    "    frame = cv2.flip(frame,1)\n",
    "    hsv = cv2.cvtColor(frame,cv2.COLOR_BGR2HSV)\n",
    "    if ret == False:\n",
    "        break\n",
    "    #histogramı bir görüntüde bulmak için kullanıyoruz ve böylece eşleme gerçekleşip takip sürüyor\n",
    "    #piksel karşılaştırma yapılıyor \n",
    "    dst = cv2.calcBackProject([hsv],[0],roi_hist,[0,180],1)   \n",
    "\n",
    "    ret,track_window = cv2.meanShift(dst,track_window,term_crit) #takip algoritmasını kullanıyoruz ve içine gerekli parametreleri giriyoruz(durma kriteri)\n",
    "    x,y,w,h = track_window # 'track_window' bize takip ettiği nesnenin yeni konumunu döndürecek(ayrıca GENİŞLİK VE yükseklikte dönderiyor)\n",
    "\n",
    "    img2 = cv2.rectangle(frame,(x,y),(x+w, y+h),(0,0,255),4) #kırmızı bir bounding box çiziyoruz\n",
    "\n",
    "    cv2.imshow(\"Takip\",img2)  \n",
    "\n",
    "    if cv2.waitKey(1) == ord('q'): # 'q' tuşuna basılırsa döngüyü kır\n",
    "        break\n",
    "cap.release() #frameleri serbest bırak\n",
    "cv2.destroyAllWindows() #tüm pencereleri kapatd\n",
    "\n",
    "\n",
    "\n"
   ]
  }
 ],
 "metadata": {
  "kernelspec": {
   "display_name": "Python 3",
   "language": "python",
   "name": "python3"
  },
  "language_info": {
   "codemirror_mode": {
    "name": "ipython",
    "version": 3
   },
   "file_extension": ".py",
   "mimetype": "text/x-python",
   "name": "python",
   "nbconvert_exporter": "python",
   "pygments_lexer": "ipython3",
   "version": "3.11.0"
  },
  "orig_nbformat": 4
 },
 "nbformat": 4,
 "nbformat_minor": 2
}
