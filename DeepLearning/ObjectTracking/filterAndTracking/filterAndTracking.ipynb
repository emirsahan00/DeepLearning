{
 "cells": [
  {
   "cell_type": "code",
   "execution_count": 2,
   "metadata": {},
   "outputs": [
    {
     "data": {
      "text/plain": [
       "<AxesSubplot: xlabel='class', ylabel='count'>"
      ]
     },
     "execution_count": 2,
     "metadata": {},
     "output_type": "execute_result"
    },
    {
     "data": {
      "image/png": "[encoded data removed]",
      "text/plain": [
       "<Figure size 640x480 with 1 Axes>"
      ]
     },
     "metadata": {},
     "output_type": "display_data"
    }
   ],
   "source": [
    "import pandas as pd   #gerekli kütüphanelerimizi(paketlerimizi) belirledik\n",
    "import cv2\n",
    "import numpy as np\n",
    "import matplotlib.pyplot as plt\n",
    "import time \n",
    "import seaborn as sns \n",
    "\n",
    "col_list = ['frame_number','identity_number','left','top','width','height','score','class','visibility'] #tablomuzun(veri seti) başlıklarını belirledik\n",
    "\n",
    "data = pd.read_csv('gt.txt',names = col_list) #gt.txt dosyasındaki verileri pandas kütüphanesiyle içe aktardık\n",
    "\n",
    "plt.figure()\n",
    "sns.countplot(x='class',data=data)  #bu kısım bize kaç farklı sınıfımız classımız olduğunu söylüyor\n",
    "print(data.head())\n",
    "car = data[data['class'] == 3] #araba classlarını car değişkenine atadık\n",
    "\n",
    "videoPath = \"deneme.mp4\" #videonun pathini belirledik\n",
    "\n",
    "cap = cv2.VideoCapture(videoPath) \n",
    "\n",
    "id1 = 29 # identity number'ı 29 numaraları olan aracaı takip edeceğimizden dolayı 29 a eşitledik\n",
    "\n",
    "numberOfImage = np.max(data['frame_number']) #kaç adet frame oldugunu öğrendik\n",
    "print(numberOfImage)\n",
    "fps = 25 #fps imizi 25 olarak belirledik (bu sitede yazıyordu)\n",
    "bound_box_list = []  # nesnelerin koordinat verileri için boş bir liste oluşturduk\n",
    "\n",
    "for i in range(numberOfImage-1): #frame sayısı kadar dönen bir döngü oluşturduk\n",
    "    ret,frame = cap.read() #frameleri okuduk\n",
    "\n",
    "    if ret == False: #frameler'i okumak başarısız olursa döngüyü kırdık\n",
    "        break\n",
    "\n",
    "    frame = cv2.resize(frame,(960,540)) #framelerimizi 960 a 540 olmak üzere yeniden boyutlandırdık\n",
    "\n",
    "    filter_id1 = np.logical_and(car['frame_number'] == i+1,car['identity_number']==id1)  #tek  bir araca odaklanacağımız için filtre uyguladık\n",
    "    \n",
    "    if len(car[filter_id1]) != 0: #eğer ki boş değilse\n",
    "        x = int(car[filter_id1].left.values[0]/2) #koordinat değerlerini döndürdük x,y,widtg,heiht\n",
    "        y = int(car[filter_id1].top.values[0]/2)\n",
    "        w = int(car[filter_id1].width.values[0]/2)\n",
    "        h = int(car[filter_id1].height.values[0]/2)\n",
    "\n",
    "        cv2.rectangle(frame,(x,y),(x+w,y+h),(0,255,0),2) #bulduğumuz koordinat değerlerine bir dikdörtgen çizdirdik\n",
    "        cv2.circle(frame,(int(x+w/2),int(y+h/2)),2,(0,0,255),-1) #koordinatları kullanarak merkez noktasına bir çember çizdirdik\n",
    "        \n",
    "        #frame,x,y,genislik,yukseklik,merkez x noktası,merkez y noktası \n",
    "        bound_box_list.append([i,x,y,w,h,int(x+w/2),int(y+h/2)])  #koordinat bilgilerini 'bound_box_list' listesine ekledik\n",
    "\n",
    "\n",
    "    cv2.putText(frame,'frame number : '+str(i+1),(10,30),cv2.FONT_HERSHEY_SIMPLEX,1,(0,0,255),2) #kaçıncı framede oldugumuzu öğrenmek için frameler ustune yazdırdık\n",
    "    cv2.imshow('frame',frame) # ve framelerimizi imshowladık\n",
    "\n",
    "    if cv2.waitKey(1) == ord('q'): # 'q' tuşuna basılınca döngümüzü kırdık\n",
    "        break\n",
    "cap.release #görüntüyü serbest bıraktık\n",
    "cv2.destroyAllWindows()      #ve tüm pencereleri kapattık\n",
    "\n",
    "# df = pd.DataFrame(bound_box_list,columns = ['frame_no','x','y','w','h','center_x','center_y'])\n",
    "# df.to_csv('gt_new.txt',index = False)"
   ]
  },
  {
   "cell_type": "code",
   "execution_count": null,
   "metadata": {},
   "outputs": [],
   "source": []
  }
 ],
 "metadata": {
  "kernelspec": {
   "display_name": "Python 3",
   "language": "python",
   "name": "python3"
  },
  "language_info": {
   "codemirror_mode": {
    "name": "ipython",
    "version": 3
   },
   "file_extension": ".py",
   "mimetype": "text/x-python",
   "name": "python",
   "nbconvert_exporter": "python",
   "pygments_lexer": "ipython3",
   "version": "3.11.0"
  },
  "orig_nbformat": 4
 },
 "nbformat": 4,
 "nbformat_minor": 2
}
