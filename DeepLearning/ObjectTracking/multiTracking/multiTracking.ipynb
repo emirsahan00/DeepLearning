{
 "cells": [
  {
   "cell_type": "code",
   "execution_count": 1,
   "metadata": {},
   "outputs": [],
   "source": [
    "import cv2\n",
    "\n",
    "OPENCV_OBJECT_TRACKERS = {'csrt'       : cv2.legacy.TrackerCSRT_create,   #takip algoritmalarımızı tanımladık\n",
    "                          'boosting'    : cv2.legacy.TrackerBoosting_create,\n",
    "                          'mil'         : cv2.legacy.TrackerMIL_create,\n",
    "                          'tld'         : cv2.legacy.TrackerTLD_create,\n",
    "                          'medianflow'  : cv2.legacy.TrackerMedianFlow_create,\n",
    "                          'mosse'       : cv2.legacy.TrackerMOSSE_create}\n",
    "\n",
    "tracker_name = 'mil'  #takip algoritması belirliyoruz\n",
    "\n",
    "trackers = cv2.legacy.MultiTracker_create() #çoklu nesne takipi için bu fonksiyona ihtiyacımız var \n",
    "\n",
    "video_path = 'deneme.mp4'  #video pathini belirliyoruz\n",
    "cap = cv2.VideoCapture(video_path) \n",
    "\n",
    "fps = 30  #fps imizi belirliyoruz\n",
    "f = 0  #frame numarasını kullanabiliriz\n",
    "\n",
    "while True: #sonsuz bir döngü başlatıyoruz\n",
    "    ret,frame = cap.read() #framelerimizi okuyoruz\n",
    "    (H,W) = frame.shape[:2] #framelerin height ve width değerlerini alıyourz\n",
    "    frame = cv2.resize(frame,(960,540)) #framelerimizi tekrardan boyutandırıyourz\n",
    "\n",
    "    (success,boxes)  = trackers.update(frame) #koordinatları dönderiyoruz\n",
    "\n",
    "    info = [('Tracker',tracker_name), #seçtiğimiz algoritmayı ve başarı bilgisini yazdırmak için info oluşturuyoruz\n",
    "            ('Success','Yes' if success else 'No')]\n",
    "    \n",
    "    string_text = \"\"\n",
    "\n",
    "    for (i,(k,v)) in enumerate(info): #info değişkeninden gelen bilgileri frameler üstüne yazdırıyoruz\n",
    "            text = \"{}: {}\".format(k,v)\n",
    "            string_text = string_text + text + \" \"\n",
    "    cv2.putText(frame,string_text,(10,20),cv2.FONT_HERSHEY_SIMPLEX,0.6,(0,0,255),2)        \n",
    "\n",
    "    for box in boxes: #x ,y, w,h koordinatlarına erişmek için iki for döngüsü kuruyoruz\n",
    "          (x,y,w,h) = [int(v) for v in box]\n",
    "          cv2.rectangle(frame,(x,y),(x+w,y+h),(0,255,0),2) #ve bu koordinatlarla yeşil bir dikdörtgen çiziyoruz\n",
    "    cv2.imshow('frame',frame) #framelerimizi imshowluyoruz\n",
    "    \n",
    "    if cv2.waitKey(20) == ord('q'): # eğer ki 'q' ya basılırsa döngüyü kırıyoruz\n",
    "        break      \n",
    "    \n",
    "    if cv2.waitKey(20) == ord('t'): # eğer 't' tuşuna basılırsa  (bosluk tusuna basılırsa video seyrine geri döner)\n",
    "        box = cv2.selectROI('frame',frame,fromCenter=False) #frame üstünden bir nesne seç ve \n",
    "        tracker = OPENCV_OBJECT_TRACKERS[tracker_name]() #belirlenmiş algoritma ile \n",
    "        trackers.add(tracker,frame,box) #takip et\n",
    "\n",
    "    f+=1 #frame sayısını bir arttır\n",
    "cap.release() #frameleri serbest bırak\n",
    "cv2.destroyAllWindows() #tüm pencerleri kapat\n"
   ]
  },
  {
   "cell_type": "code",
   "execution_count": null,
   "metadata": {},
   "outputs": [],
   "source": []
  }
 ],
 "metadata": {
  "kernelspec": {
   "display_name": "Python 3",
   "language": "python",
   "name": "python3"
  },
  "language_info": {
   "codemirror_mode": {
    "name": "ipython",
    "version": 3
   },
   "file_extension": ".py",
   "mimetype": "text/x-python",
   "name": "python",
   "nbconvert_exporter": "python",
   "pygments_lexer": "ipython3",
   "version": "3.11.0"
  },
  "orig_nbformat": 4
 },
 "nbformat": 4,
 "nbformat_minor": 2
}
