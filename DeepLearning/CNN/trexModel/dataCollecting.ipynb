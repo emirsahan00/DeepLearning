{
 "cells": [
  {
   "cell_type": "code",
   "execution_count": null,
   "metadata": {},
   "outputs": [],
   "source": [
    "import keyboard\n",
    "import uuid \n",
    "import time\n",
    "from PIL import Image\n",
    "from mss import mss\n",
    "\"\"\"  https://trex-runner.com/  \"\"\"\n",
    "mon = {'top':535, 'left':701, 'width':250, 'height':115}\n",
    "\n",
    "sct = mss() #ilgili alana odaklanmamızı sağlayacak kütüphane\n",
    "i = 0\n",
    "\n",
    "def record_screen(record_id,key):\n",
    "    global i \n",
    "    i += 1\n",
    "    print(\"{} : {}\".format(key ,i)) #key klavyede hangi tuşa bastığımız i ise kaç defa klavyeye bastığımız \n",
    "    img = sct.grab(mon)  #mon doğrulutusuna ekranı al \n",
    "    im = Image.frombytes('RGB',img.size,img.rgb)\n",
    "\n",
    "    im.save(\"./img/{}_{}_{}.png\".format(key,record_id,i))\n",
    "\n",
    "is_exit = False #veri toplamayı durdurmak için boolen deger tanımlıyoruz\n",
    "\n",
    "def exit():  # çağırılmışsa veri toplama biter\n",
    "    global is_exit\n",
    "    is_exit = True\n",
    "\n",
    "keyboard.add_hotkey(\"esc\",exit) #esc tuşuna basılırsa exit fonksiyonunu çağırır\n",
    "\n",
    "record_id = uuid.uuid4()\n",
    "\n",
    "while True:\n",
    "    if is_exit: #doğru ise veri toplama işimiz bitmiş demektir ve döngüyü kırıyoruz\n",
    "        break\n",
    "    \n",
    "    try:\n",
    "        if keyboard.is_pressed(keyboard.KEY_UP): #eğer ki klavyeden yukarı tuşuna basıldıysa \n",
    "            record_screen(record_id,'up') \n",
    "            time.sleep(0.1)\n",
    "        elif keyboard.is_pressed(keyboard.KEY_DOWN):  #eğer ki klavyeden aşağı tuşuna basıldıysa\n",
    "            record_screen(record_id,'down') \n",
    "            time.sleep(0.1)\n",
    "        elif keyboard.is_pressed('right'): #eğer ki klavyeden sağ yön tuşuna basıldıysa \n",
    "            record_screen(record_id,'right')\n",
    "            time.sleep(0.1) \n",
    "    except RuntimeError:  #hata verirse devam etmesi için try except methodalarının kullandık\n",
    "        continue\n",
    "\n",
    "\n"
   ]
  },
  {
   "cell_type": "code",
   "execution_count": null,
   "metadata": {},
   "outputs": [],
   "source": []
  }
 ],
 "metadata": {
  "kernelspec": {
   "display_name": "Python 3",
   "language": "python",
   "name": "python3"
  },
  "language_info": {
   "codemirror_mode": {
    "name": "ipython",
    "version": 3
   },
   "file_extension": ".py",
   "mimetype": "text/x-python",
   "name": "python",
   "nbconvert_exporter": "python",
   "pygments_lexer": "ipython3",
   "version": "3.11.0"
  },
  "orig_nbformat": 4
 },
 "nbformat": 4,
 "nbformat_minor": 2
}
