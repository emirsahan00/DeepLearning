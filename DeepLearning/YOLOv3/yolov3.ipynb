{
 "cells": [
  {
   "cell_type": "code",
   "execution_count": 2,
   "metadata": {},
   "outputs": [
    {
     "name": "stdout",
     "output_type": "stream",
     "text": [
      "WARNING:tensorflow:No training configuration found in the save file, so the model was *not* compiled. Compile it manually.\n",
      "1/1 [==============================] - 7s 7s/step\n"
     ]
    }
   ],
   "source": [
    "import cv2\n",
    "import numpy as np\n",
    "from yolo_model import YOLO\n",
    "\n",
    "yolo = YOLO(0.6,0.5)  #yoloya girilen sabit parametreler\n",
    "file = 'data/coco_classes.txt'  #etiketleri içe aktarıyoruz \n",
    "\n",
    "with open(file) as f:\n",
    "    class_name = f.readlines()\n",
    "    #print(class_name)  #['person\\n', 'bicycle\\n', 'car\\n'] tarzında oldugu için '\\n' ifadelerinden kurtulmamız gerek\n",
    "\n",
    "all_classes = [c.strip() for c in class_name] #['person', 'bicycle', 'car'] #tarzına dönüştürüyoruz\n",
    "\n",
    "path = 'src/cats.jpg' #resmimizin yolunu veriyoruz\n",
    "image = cv2.imread(path) #resmi okuyoruz\n",
    "pimage = cv2.resize(image,(416,416)) #yolonun için girilmesi gereken boyutlar\n",
    "pimage = np.array(pimage,dtype='float32') #veri tipini numpy arrayi yapıyoruz\n",
    "pimage /= 255  #normalize  \n",
    "pimage = np.expand_dims(pimage,axis=0) #listeyi genişletiyoruz (yolo için yapılması gerek)\n",
    "\n",
    "#YOLO\n",
    "boxes,classes,scores=yolo.predict(pimage,image.shape) #yolo üç değer döndürür nesnenin koordinatları,etiketi ve yüzdelik olasılık\n",
    "\n",
    "for box,score,cl in zip(boxes,scores,classes):\n",
    "    \n",
    "    x,y,w,h = box #box değişkeninden gelen 4 değeri x ,y ,w ve h değişkenlerine atıyoruz\n",
    "\n",
    "    top = max(0,np.floor(x + 0.5).astype(int))   #np.floor ondalıklı sayıyı tabanı olan sayıya yuvarlıyor (1.8 -> 1)\n",
    "    left = max(0,np.floor(y + 0.5).astype(int))  #koordinatları şekilendiriyoruz\n",
    "    right = max(0,np.floor(x + w + 0.5).astype(int))\n",
    "    bottom = max(0,np.floor(y + h + 0.5).astype(int))\n",
    "\n",
    "    cv2.rectangle(image ,(top,left),(right,bottom),(255,0,0),2)  #bulunan koordinatlara dikdörtgen çiziyoruz\n",
    "    cv2.putText(image,'{} {}'.format(all_classes[cl],score),(top,left-6),cv2.FONT_HERSHEY_SIMPLEX,0.6,(0,0,255),1,cv2.LINE_AA) #score ve sınıf değerini yazdırıyoruz\n",
    "\n",
    "cv2.imshow('output',image) #resmi imshowluyoruz\n",
    "cv2.waitKey(0)\n",
    "cv2.destroyAllWindows() \n"
   ]
  }
 ],
 "metadata": {
  "kernelspec": {
   "display_name": "Python 3",
   "language": "python",
   "name": "python3"
  },
  "language_info": {
   "codemirror_mode": {
    "name": "ipython",
    "version": 3
   },
   "file_extension": ".py",
   "mimetype": "text/x-python",
   "name": "python",
   "nbconvert_exporter": "python",
   "pygments_lexer": "ipython3",
   "version": "3.11.0"
  },
  "orig_nbformat": 4
 },
 "nbformat": 4,
 "nbformat_minor": 2
}
