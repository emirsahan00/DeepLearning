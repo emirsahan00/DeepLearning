{
 "cells": [
  {
   "cell_type": "code",
   "execution_count": 11,
   "metadata": {},
   "outputs": [
    {
     "name": "stdout",
     "output_type": "stream",
     "text": [
      "start\n",
      "3/3 [==============================] - 0s 5ms/step\n"
     ]
    }
   ],
   "source": [
    "import cv2  #gerekli olan kütüphanelerimizi (paketleri) tanımlıyoruz\n",
    "import pickle \n",
    "import numpy as np \n",
    "import random\n",
    "from tensorflow.keras.preprocessing.image import img_to_array\n",
    "\n",
    "image = cv2.imread('src/mnist.jpg')  #resmimizi path'i verilen yoldan içe aktarıyoruz\n",
    "\n",
    "#ilklendir selective search\n",
    "ss = cv2.ximgproc.segmentation.createSelectiveSearchSegmentation()\n",
    "ss.setBaseImage(image)  #algoritmanın işlem yapacağı resmi aktarıyoruz\n",
    "ss.switchToSelectiveSearchQuality()  #algoritmamızı içe aktardık \n",
    "\n",
    "print('start')\n",
    "rects = ss.process()  #burda algoritma ile nesne tespiti ==> x ,y ,w ,h değerlerini döndürür\n",
    "\n",
    "proposals = [] #roi ve koordinat değerleri için 2 adet boş bir liste tanımlıyoruz\n",
    "boxes = []\n",
    "output = image.copy() #orijinal resmimizin kopyasını oluşturuyoruz\n",
    "\n",
    "for (x,y,w,h) in rects[:80]: #tespit edilmiş 80 adet nesnenin içinde geziniyoruz\n",
    "    color = [random.randint(0,255) for j in range(0,3)] #random bir renk oluşturuyoruz\n",
    "    cv2.rectangle(output,(x,y),(x+w,y+h),color,2)  #bulduğumuz koordinatlara rastgele renk ile dikdörtgen çizdiriyoruz\n",
    "\n",
    "    roi = image[y:y+h,x:x+w]  #region of interest oluşturuyoruz\n",
    "    roi = cv2.resize(roi,(32,32),interpolation = cv2.INTER_LANCZOS4)  #roi mizi 32x32 olmak üzere yeniden boyutlandırıyoruz\n",
    "    roi = cv2.cvtColor(roi,cv2.COLOR_BGR2GRAY) #bgr formatından gray formatına çeviriyoruz\n",
    "    \n",
    "    roi = img_to_array(roi) #img formatından array formatına çeviriyoruz (model için)\n",
    "\n",
    "    proposals.append(roi) #arrayleri proposals listesine ekliyoruz\n",
    "    boxes.append((x,y,x+w,y+h)) #bu arrayların koordinatarını ise boxes listesine ekliyoruz\n",
    "\n",
    "proposals = np.array(proposals,dtype='float64')  #bu listedeki elemanları numpy array formatına getiriyoruz\n",
    "boxes = np.array(boxes,dtype='int32') #bu listedeki elemanları integer olmak şartıyla array formatına çeviriyoruz\n",
    "\n",
    "\n",
    "pickle_in = open('model_trained.p','rb') #modeli içe aktarıyoruz\n",
    "model = pickle.load(pickle_in) \n",
    "proba = model.predict(proposals)  #tahminleri döndürüyoruz\n",
    "\n",
    "number_list = [] #sınıflandır için 2 farklı liste oluşturuyoruz\n",
    "idx = []\n",
    "\n",
    "#SINIFLANDIRMA\n",
    "for i in range(len(proba)):  #tahminlerin içinde dolaşıyoruz\n",
    "    max_prob = np.max(proba[i,:]) #i indeksine karşılık gelen satırının maksimum olasılığını max_prob değişkenine eşitlerzi\n",
    "\n",
    "    if max_prob >0.95: #eğer ki olasılık 0.95'ten buyukse \n",
    "        idx.append(i) # o anki i değerini idx listesine \n",
    "        number_list.append(np.argmax(proba[i]))  #maks sayısında index numarasını number_list listesine ekleriz\n",
    "\n",
    "for i in range(len(number_list)):\n",
    "    j = idx[i]\n",
    "    cv2.rectangle(image,(boxes[j,0],boxes[j,1]),(boxes[j,2],boxes[j,3]),(0,0,255),2)\n",
    "    cv2.putText(image,str(np.argmax(proba[j])),(boxes[j,0] + 5,boxes[j,1] + 5),cv2.FONT_HERSHEY_SIMPLEX,1.5,(0,255,0),2)\n",
    "\n",
    "    cv2.imshow('img',image)\n",
    "    \n",
    "\n",
    "cv2.waitKey(0)\n",
    "cv2.destroyAllWindows()"
   ]
  }
 ],
 "metadata": {
  "kernelspec": {
   "display_name": "Python 3",
   "language": "python",
   "name": "python3"
  },
  "language_info": {
   "codemirror_mode": {
    "name": "ipython",
    "version": 3
   },
   "file_extension": ".py",
   "mimetype": "text/x-python",
   "name": "python",
   "nbconvert_exporter": "python",
   "pygments_lexer": "ipython3",
   "version": "3.11.0"
  },
  "orig_nbformat": 4
 },
 "nbformat": 4,
 "nbformat_minor": 2
}
