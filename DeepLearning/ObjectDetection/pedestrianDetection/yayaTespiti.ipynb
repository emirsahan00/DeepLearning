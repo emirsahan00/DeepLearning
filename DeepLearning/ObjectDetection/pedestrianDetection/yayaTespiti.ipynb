{
 "cells": [
  {
   "cell_type": "code",
   "execution_count": 20,
   "metadata": {},
   "outputs": [],
   "source": [
    "import cv2  #gerekli kütüphaneyi import ediyoruz\n",
    "\n",
    "hog = cv2.HOGDescriptor() #HOG'u tanımlıyoruz\n",
    "hog.setSVMDetector(cv2.HOGDescriptor_getDefaultPeopleDetector())\n",
    "\n",
    "image = cv2.imread('D:/examples_forDeepLearning/ObjectDetection/pedestrianDetection/src/pedestrian2.png')  #resmimizi içe aktarıp okuyoruz\n",
    "\n",
    "(rects,weights) = hog.detectMultiScale(image,padding= (8,8),scale = 1.10) #resimde 8 ' e 8 lik pencerelerle dolaşıyoruz ve yayanın koordinatlarını döndürüyoruz\n",
    "\n",
    "for (x,y,w,h) in rects:   #bulduğumz koordinatları çiziyoruz\n",
    "    cv2.rectangle(image,(x,y),(x+w,y+h),(0,255,0),2)\n",
    "\n",
    "cv2.imshow('detection',image) #ve resmi imshowluyourz\n",
    "cv2.waitKey(0)\n",
    "cv2.destroyAllWindows()\n"
   ]
  }
 ],
 "metadata": {
  "kernelspec": {
   "display_name": "Python 3",
   "language": "python",
   "name": "python3"
  },
  "language_info": {
   "codemirror_mode": {
    "name": "ipython",
    "version": 3
   },
   "file_extension": ".py",
   "mimetype": "text/x-python",
   "name": "python",
   "nbconvert_exporter": "python",
   "pygments_lexer": "ipython3",
   "version": "3.11.0"
  },
  "orig_nbformat": 4
 },
 "nbformat": 4,
 "nbformat_minor": 2
}
