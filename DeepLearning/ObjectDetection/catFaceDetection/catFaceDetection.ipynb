{
 "cells": [
  {
   "cell_type": "code",
   "execution_count": 10,
   "metadata": {},
   "outputs": [],
   "source": [
    "import cv2\n",
    "\n",
    "image = cv2.imread(\"D:/examples_forDeepLearning/ObjectDetection/catFaceDetection/src/cat3.jpg\")\n",
    "gray = cv2.cvtColor(image,cv2.COLOR_BGR2GRAY)\n",
    "detector = cv2.CascadeClassifier(\"D:/examples_forDeepLearning/ObjectDetection/catFaceDetection/haarcascade_frontalcatface.xml\")\n",
    "\n",
    "rects = detector.detectMultiScale(gray,scaleFactor=1.045,minNeighbors = 3)\n",
    "\n",
    "for (i,(x,y,w,h)) in enumerate(rects):\n",
    "    cv2.rectangle(image,(x,y),(x+w,y+h),(0,255,255),2)\n",
    "    cv2.putText(image,\"Kedi {}\".format(i+1),(x,y-10),cv2.FONT_HERSHEY_SIMPLEX,0.55,(0,255,255),2)\n",
    "\n",
    "cv2.imshow(\"cat detection\",image)\n",
    "cv2.waitKey(0)\n",
    "cv2.destroyAllWindows()"
   ]
  }
 ],
 "metadata": {
  "kernelspec": {
   "display_name": "Python 3",
   "language": "python",
   "name": "python3"
  },
  "language_info": {
   "codemirror_mode": {
    "name": "ipython",
    "version": 3
   },
   "file_extension": ".py",
   "mimetype": "text/x-python",
   "name": "python",
   "nbconvert_exporter": "python",
   "pygments_lexer": "ipython3",
   "version": "3.11.0"
  },
  "orig_nbformat": 4
 },
 "nbformat": 4,
 "nbformat_minor": 2
}
