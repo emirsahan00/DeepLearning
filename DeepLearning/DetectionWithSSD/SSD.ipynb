{
 "cells": [
  {
   "cell_type": "code",
   "execution_count": 5,
   "metadata": {},
   "outputs": [],
   "source": [
    "import numpy as np  #gereki oan kütüphaneleri (paketleri) içe aktarıyoruz\n",
    "import os \n",
    "import cv2\n",
    "\n",
    "CLASSES = [\"background\", \"aeroplane\", \"bicycle\", \"bird\", \"boat\",  #sınıfları yani etiketleri tanımlıyoruz\n",
    "\t\"bottle\", \"bus\", \"car\", \"cat\", \"chair\", \"cow\", \"diningtable\",\n",
    "\t\"dog\", \"horse\", \"motorbike\", \"person\", \"pottedplant\", \"sheep\",\n",
    "\t\"sofa\", \"train\", \"tvmonitor\"]\n",
    "\n",
    "COLORS = np.random.uniform(0,255,size=(len(CLASSES),3)) #sınıf sayısı kadar renk üretiyoruz\n",
    "\n",
    "net = cv2.dnn.readNetFromCaffe(\"MobileNetSSD_deploy.prototxt.txt\", \"MobileNetSSD_deploy.caffemodel\")  #önceden eğitilmiş MobileNet SSD modelini yükleriz\n",
    "\n",
    "files = os.listdir()  #mevcut dosya yolu \n",
    "img_path_list = []  #jpg uzantılı dosyaları bu liste içinde tutacağız\n",
    "for f in files: #dosyaların içinde geziniyoruz\n",
    "    if f.endswith(\".jpg\"): #jpg uzantılı olan dosyaları img_path_list listesine ekliyoruz\n",
    "        img_path_list.append(f)\n",
    "        \n",
    "for i in img_path_list: #listenin içinde geziniyoruz\n",
    "    \n",
    "    image = cv2.imread(i) #resimleri okuyourz\n",
    "    (h,w) = image.shape[:2] #resimlerin height ve width değerlerini alıyoruz\n",
    "    blob = cv2.dnn.blobFromImage(cv2.resize(image,(300, 300)), 0.007843,(300, 300), 127.5)  #ssd 300x300 kabul ediyor diğerleri ise modelle ilgili parametreler (ortalama değer çıkarımı yapılır)\n",
    "    \n",
    "    net.setInput(blob) \n",
    "    detections = net.forward() #nesne algılama sonuçları detections değişkenine atılır \n",
    "    \n",
    "    for j in np.arange(0, detections.shape[2]):  #her bir algılanan nesne için\n",
    "        \n",
    "        confidence = detections[0,0,j,2]\n",
    "        \n",
    "        if confidence > 0.38:  #eğer ki olasılık(tahmin) değeri 0.38'den buyukse\n",
    "            \n",
    "            idx = int(detections[0,0,j,1]) #algılanan nesnenin sınıf indexi hesaplanır\n",
    "            box = detections[0,0,j,3:7]*np.array([w,h,w,h]) #x ,y ,width ve height değerleri hesaplanır\n",
    "            (startX, startY, endX, endY) = box.astype(\"int\")  #box değişkenindeki koordinatlar int'e dönüştürdükten sonra (startX, startY, endX, endY) değişkenlerine eşitlenir\n",
    "            \n",
    "            label = \"{}: {}\".format(CLASSES[idx], confidence) #tespit edilen nesnelerin sınıfı ve tahmin değeri label değişkeninde\n",
    "            cv2.rectangle(image, (startX, startY), (endX, endY), COLORS[idx],2)  #bulunan koordinatlarda image üzerine nesnelerin çevresine dikdörtgen(sınırlayıcı kutu) çizeriz\n",
    "            y = startY - 16 if startY -16 >15 else startY + 16 #absürt bir konumda bilgilendirme olmaması adına\n",
    "            cv2.putText(image, label, (startX,y),cv2.FONT_HERSHEY_SIMPLEX, 0.5,COLORS[idx],2) #image'imizin üstüne labeldeki verileri yazdırırız \n",
    "            \n",
    "    cv2.imshow(\"ssd\",image) #ve en son ssd modeli ile tespit edilmiş nesneleri imshowlarız\n",
    "    if cv2.waitKey(0) == ord('q'): #eğer ki 'q' ya basılmışsa bir sonraki resimden devam et\n",
    "        continue\n",
    "cv2.destroyAllWindows() #tüm pencereleri kapat"
   ]
  }
 ],
 "metadata": {
  "kernelspec": {
   "display_name": "Python 3",
   "language": "python",
   "name": "python3"
  },
  "language_info": {
   "codemirror_mode": {
    "name": "ipython",
    "version": 3
   },
   "file_extension": ".py",
   "mimetype": "text/x-python",
   "name": "python",
   "nbconvert_exporter": "python",
   "pygments_lexer": "ipython3",
   "version": "3.11.0"
  },
  "orig_nbformat": 4
 },
 "nbformat": 4,
 "nbformat_minor": 2
}
