{
 "cells": [
  {
   "cell_type": "code",
   "execution_count": 2,
   "metadata": {},
   "outputs": [],
   "source": [
    "import numpy as np #gereki oan kütüphaneleri (paketleri) içe aktarıyoruz\n",
    "import cv2\n",
    "\n",
    "CLASSES = [\"background\", \"aeroplane\", \"bicycle\", \"bird\", \"boat\", #sınıfları yani etiketleri tanımlıyoruz\n",
    "\t\"bottle\", \"bus\", \"car\", \"cat\", \"chair\", \"cow\", \"diningtable\",\n",
    "\t\"dog\", \"horse\", \"motorbike\", \"person\", \"pottedplant\", \"sheep\",\n",
    "\t\"sofa\", \"train\", \"tvmonitor\"]\n",
    "\n",
    "COLORS = np.random.uniform(0,255,size=(len(CLASSES),3)) #sınıf sayısı kadar renk üretiyoruz\n",
    "\n",
    "net = cv2.dnn.readNetFromCaffe(\"MobileNetSSD_deploy.prototxt.txt\", \"MobileNetSSD_deploy.caffemodel\") #önceden eğitilmiş MobileNet SSD modelini yükleriz\n",
    "\n",
    "cap = cv2.VideoCapture(0) #webcamden görüntü alıyoruz\n",
    "cap.set(3,800)  #webcam den alınan görüntünün width ve height değerlerini değiştiriyoruz\n",
    "cap.set(4,600)\n",
    "        \n",
    "while True: #frameleri okumak için sonsuz bir döngü oluşturuyoruz\n",
    "    \n",
    "    success, frame = cap.read()   #frameeri okuyoruz\n",
    "    (h,w) = frame.shape[:2] #framelerim height ve width değerlerini alıyoruz\n",
    "    blob = cv2.dnn.blobFromImage(cv2.resize(frame,(300, 300)), 0.007843,(300, 300), 127.5)  #ssd 300x300 kabul ediyor bu yuzden yeniden boyutlandırıyoruz diğerleri ise modelle ilgili parametreler (ortalama değer çıkarımı yapılır)\n",
    "    \n",
    "    net.setInput(blob)\n",
    "    detections = net.forward() #nesne algılama sonuçları detections değişkenine atılır\n",
    "    \n",
    "    for j in np.arange(0, detections.shape[2]):  #her bir algılanan nesne için\n",
    "        \n",
    "        confidence = detections[0,0,j,2]\n",
    "        \n",
    "        if confidence > 0.10: #eğer ki olasılık(tahmin) değeri 0.10'den buyukse\n",
    "            \n",
    "            idx = int(detections[0,0,j,1]) #algılanan nesnenin sınıf indexi hesaplanır\n",
    "            box = detections[0,0,j,3:7]*np.array([w,h,w,h]) #x ,y ,width ve height değerleri hesaplanır\n",
    "            (startX, startY, endX, endY) = box.astype(\"int\") #box değişkenindeki koordinatlar int'e dönüştürdükten sonra (startX, startY, endX, endY) değişkenlerine eşitlenir\n",
    "            \n",
    "            label = \"{}: {}\".format(CLASSES[idx], confidence) #tespit edilen nesnelerin sınıfı ve tahmin değeri label değişkeninde\n",
    "            cv2.rectangle(frame, (startX, startY), (endX, endY), COLORS[idx],2) #bulunan koordinatlarda image üzerine nesnelerin çevresine dikdörtgen(sınırlayıcı kutu) çizeriz\n",
    "            y = startY - 16 if startY -16 >15 else startY + 16 #absürt bir konumda bilgilendirme olmaması adına\n",
    "            cv2.putText(frame, label, (startX,y),cv2.FONT_HERSHEY_SIMPLEX, 0.5,COLORS[idx],2) #frame'imizin üstüne labeldeki verileri yazdırırız \n",
    "            \n",
    "    cv2.imshow(\"ssd\",frame) #ve en son ssd modeli ile tespit edilmiş nesneleri imshowlarız\n",
    "    if cv2.waitKey(1)== ord(\"q\"):  #eğer ki 'q' ya basılmışsa döngüyü kır\n",
    "        break\n",
    "cv2.destroyAllWindows() #ve tüm pencereleri kapat"
   ]
  }
 ],
 "metadata": {
  "kernelspec": {
   "display_name": "Python 3",
   "language": "python",
   "name": "python3"
  },
  "language_info": {
   "codemirror_mode": {
    "name": "ipython",
    "version": 3
   },
   "file_extension": ".py",
   "mimetype": "text/x-python",
   "name": "python",
   "nbconvert_exporter": "python",
   "pygments_lexer": "ipython3",
   "version": "3.11.0"
  },
  "orig_nbformat": 4
 },
 "nbformat": 4,
 "nbformat_minor": 2
}
